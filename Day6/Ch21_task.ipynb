{
 "cells": [
  {
   "cell_type": "markdown",
   "metadata": {},
   "source": [
    "안녕하세요. 수강생 여러분~! Chapter21 ~ 32 수업은 잘 들으셨나요?\n",
    "\n",
    "Chapter21 ~ 32의 수업 내용을 바탕으로 아래 문제를 풀어주시면 됩니다.\n",
    "\n",
    "\n",
    "<br>\n",
    "\n",
    "\n",
    "[**답변 입력 방법**]\n",
    "\n",
    "문제 아래에 있는 코드 입력창에 정답코드를 작성하신 후  __▷ 버튼을 클릭해 코드를 실행__ 해보세요<br>"
   ]
  },
  {
   "cell_type": "markdown",
   "metadata": {},
   "source": [
    "---"
   ]
  },
  {
   "cell_type": "markdown",
   "metadata": {},
   "source": [
    "[문제 1]\n",
    "사용자로부터 이름과 나이를 입력 받아, \"안녕하세요, [이름]님! 당신은 [나이]살입니다.\"라고 출력하는 함수 greet_user를 작성하세요."
   ]
  },
  {
   "cell_type": "code",
   "execution_count": 4,
   "metadata": {},
   "outputs": [
    {
     "name": "stdout",
     "output_type": "stream",
     "text": [
      "안녕하세요, 이름님! 당신은 0살입니다. \n"
     ]
    }
   ],
   "source": [
    "def greet_user(name: str, age: int) -> None:\n",
    "    print(f'안녕하세요, {name}님! 당신은 {age}살입니다. ')\n",
    "\n",
    "name: str = input('이름을 입력하세요 : ')\n",
    "age: int = int(input('나이를 입력하세요 : '))\n",
    "\n",
    "greet_user(name, age)"
   ]
  },
  {
   "cell_type": "markdown",
   "metadata": {},
   "source": [
    "---"
   ]
  },
  {
   "cell_type": "markdown",
   "metadata": {},
   "source": [
    "[문제 2] 여러 숫자를 입력받아 그 합계를 반환하는 함수 sum_numbers를 작성하세요. 이 때, 가변 매개변수를 사용하세요."
   ]
  },
  {
   "cell_type": "code",
   "execution_count": null,
   "metadata": {},
   "outputs": [
    {
     "name": "stdout",
     "output_type": "stream",
     "text": [
      "랜덤 숫자 10개 : [7, 1, 7, 9, 4, 4, 4, 8, 6, 4]\n",
      "총합 : 54\n"
     ]
    }
   ],
   "source": [
    "import random\n",
    "\n",
    "def sum_numbers(*numbers: int) -> int:\n",
    "    return sum(numbers)\n",
    "\n",
    "numbers = [random.randint(1, 10) for r in range(10)]\n",
    "print(f'랜덤 숫자 10개 : {numbers}\\n총합 : {sum_numbers(*numbers)}')"
   ]
  },
  {
   "cell_type": "markdown",
   "metadata": {},
   "source": [
    "---"
   ]
  },
  {
   "cell_type": "markdown",
   "metadata": {},
   "source": [
    "[문제 3] 사용자의 이름을 출력하는 함수 print_name을 작성하세요. 만약 이름이 주어지지 않았다면, 기본값으로 \"익명\"을 사용하세요."
   ]
  },
  {
   "cell_type": "code",
   "execution_count": 21,
   "metadata": {},
   "outputs": [
    {
     "name": "stdout",
     "output_type": "stream",
     "text": [
      "이름 : 익명\n"
     ]
    }
   ],
   "source": [
    "def print_name(name: str = None) -> None:\n",
    "    if not name.strip():\n",
    "        print(f'이름 : 익명')\n",
    "        return\n",
    "    print(f'이름 : {name}')\n",
    "\n",
    "name = input('이름 입력 : ')\n",
    "\n",
    "print_name(name)"
   ]
  },
  {
   "cell_type": "markdown",
   "metadata": {},
   "source": [
    "---"
   ]
  },
  {
   "cell_type": "markdown",
   "metadata": {},
   "source": [
    "[문제 4] 사용자의 이름, 나이, 성별을 출력하는 함수 print_info를 작성하세요. 이 때, 모든 매개변수는 키워드 매개변수로만 받도록 하세요."
   ]
  },
  {
   "cell_type": "code",
   "execution_count": 24,
   "metadata": {},
   "outputs": [
    {
     "name": "stdout",
     "output_type": "stream",
     "text": [
      "이름 : 이름\n",
      "나이 : 0\n",
      "성별 : 성별\n"
     ]
    }
   ],
   "source": [
    "def print_info(name: str, age: int, gender: str) -> None:\n",
    "    print(f'이름 : {name}\\n나이 : {age}\\n성별 : {gender}')\n",
    "\n",
    "name = input('이름 입력 : ')\n",
    "age = int(input('나이 입력 : '))\n",
    "gender = input('성별 입력 : ')\n",
    "\n",
    "print_info(name, age, gender)"
   ]
  },
  {
   "cell_type": "markdown",
   "metadata": {},
   "source": [
    "---"
   ]
  },
  {
   "cell_type": "markdown",
   "metadata": {},
   "source": [
    "[문제 5] 두 개의 정수를 받아 합을 반환하는 함수 add를 작성하세요. 매개변수와 반환값에 타입 어노테이션을 추가하세요."
   ]
  },
  {
   "cell_type": "code",
   "execution_count": 26,
   "metadata": {},
   "outputs": [
    {
     "data": {
      "text/plain": [
       "3"
      ]
     },
     "execution_count": 26,
     "metadata": {},
     "output_type": "execute_result"
    }
   ],
   "source": [
    "def add(num1: int, num2: int) -> int:\n",
    "    return num1 + num2\n",
    "\n",
    "num1, num2 = 1, 2\n",
    "\n",
    "add(num1, num2)"
   ]
  },
  {
   "cell_type": "markdown",
   "metadata": {},
   "source": [
    "---"
   ]
  },
  {
   "cell_type": "markdown",
   "metadata": {},
   "source": [
    "[문제 6] 0부터 시작하여 n까지의 숫자 중에서 홀수만 생성하는 제너레이터 odd_numbers를 작성하세요."
   ]
  },
  {
   "cell_type": "code",
   "execution_count": 52,
   "metadata": {},
   "outputs": [
    {
     "name": "stdout",
     "output_type": "stream",
     "text": [
      "1 3 5 7 9 "
     ]
    }
   ],
   "source": [
    "def odd_numbers(n: int):\n",
    "    for i in range(n+1):\n",
    "        if i % 2 != 0:\n",
    "            yield i\n",
    "\n",
    "n = int(input('n을 입력해주세요 : '))\n",
    "\n",
    "for i in odd_numbers(n):\n",
    "    print(i, end = ' ')\n",
    "        \n",
    "\n",
    "    "
   ]
  },
  {
   "cell_type": "markdown",
   "metadata": {},
   "source": [
    "---"
   ]
  },
  {
   "cell_type": "markdown",
   "metadata": {},
   "source": [
    "[문제 7] 두 숫자를 더하는 람다 함수를 작성하고, 이를 변수에 할당한 후 사용하세요."
   ]
  },
  {
   "cell_type": "code",
   "execution_count": null,
   "metadata": {},
   "outputs": [
    {
     "name": "stdout",
     "output_type": "stream",
     "text": [
      "3\n"
     ]
    }
   ],
   "source": [
    "_add = lambda a, b : a + b\n",
    "\n",
    "print(_add(1,2))"
   ]
  },
  {
   "cell_type": "markdown",
   "metadata": {},
   "source": [
    "---"
   ]
  },
  {
   "cell_type": "markdown",
   "metadata": {},
   "source": [
    "[문제 8] 사용자로부터 3개의 숫자를 입력받아, 이를 튜플로 만든 후 최소값과 최대값을 출력하는 함수 min_max를 작성하세요."
   ]
  },
  {
   "cell_type": "code",
   "execution_count": 56,
   "metadata": {},
   "outputs": [
    {
     "name": "stdout",
     "output_type": "stream",
     "text": [
      "최솟값 : 1\n",
      "최댓값 : 3\n"
     ]
    }
   ],
   "source": [
    "def min_max(nums: tuple) -> None:\n",
    "    print(f'최솟값 : {min(nums)}\\n최댓값 : {max(nums)}')\n",
    "\n",
    "nums = tuple(map(int, input('정수 3개를 입력하세요(공백으로 구분) : ').split(' ')))\n",
    "\n",
    "min_max(nums)"
   ]
  },
  {
   "cell_type": "markdown",
   "metadata": {},
   "source": [
    "---"
   ]
  },
  {
   "cell_type": "markdown",
   "metadata": {},
   "source": [
    "[문제 9] 주어진 숫자가 짝수인지 확인하는 함수 is_even을 작성하세요. 짝수라면 True를, 아니라면 False를 반환하세요. 함수 내에서 조기 리턴을 활용하세요."
   ]
  },
  {
   "cell_type": "code",
   "execution_count": 59,
   "metadata": {},
   "outputs": [
    {
     "name": "stdout",
     "output_type": "stream",
     "text": [
      "조기 리턴\n",
      "1 : False\n",
      "2 : True\n"
     ]
    }
   ],
   "source": [
    "def is_even(num: int) -> bool:\n",
    "    if num % 2 == 0:\n",
    "        print(\"조기 리턴\")\n",
    "        return True\n",
    "    return False\n",
    "\n",
    "print(f'1 : {is_even(1)}\\n2 : {is_even(2)}')"
   ]
  },
  {
   "cell_type": "markdown",
   "metadata": {},
   "source": [
    "---"
   ]
  },
  {
   "cell_type": "markdown",
   "metadata": {},
   "source": [
    "[문제 10] 팩토리얼을 계산하는 재귀 함수 factorial을 작성하세요."
   ]
  },
  {
   "cell_type": "code",
   "execution_count": 64,
   "metadata": {},
   "outputs": [
    {
     "name": "stdout",
     "output_type": "stream",
     "text": [
      "5! = 120\n"
     ]
    }
   ],
   "source": [
    "factorial = lambda n : n*factorial(n-1) if n > 1 else 1\n",
    "\n",
    "n = int(input('구하고자 하는 n값을 입력하세요 : '))\n",
    "\n",
    "print(f'{n}! = {factorial(n)}')"
   ]
  },
  {
   "cell_type": "markdown",
   "metadata": {},
   "source": [
    "---"
   ]
  },
  {
   "cell_type": "markdown",
   "metadata": {},
   "source": [
    "[문제 11] 문자열 리스트를 받아, 각 문자열의 길이를 출력하는 함수 print_lengths를 작성하세요."
   ]
  },
  {
   "cell_type": "code",
   "execution_count": null,
   "metadata": {},
   "outputs": [
    {
     "name": "stdout",
     "output_type": "stream",
     "text": [
      "\"엄마가\"의 길이 : 3\n",
      "\"섬그늘에\"의 길이 : 4\n",
      "\"굴 따러 가면\"의 길이 : 7\n"
     ]
    }
   ],
   "source": [
    "def print_lengths(strs: list[str]) -> None:\n",
    "    for i in strs:\n",
    "        print(f'\"{i}\"의 길이 : {len(i)}')\n",
    "\n",
    "str_list = [\"엄마가\", \"섬그늘에\", \"굴 따러 가면\"]\n",
    "\n",
    "print_lengths(str_list)"
   ]
  },
  {
   "cell_type": "markdown",
   "metadata": {},
   "source": [
    "---"
   ]
  },
  {
   "cell_type": "markdown",
   "metadata": {},
   "source": [
    "[문제 12] 두 문자열을 받아서 긴 문자열을 반환하는 함수 longer_string을 작성하세요. 만약 두 문자열의 길이가 같다면, 첫 번째 문자열을 반환하세요."
   ]
  },
  {
   "cell_type": "code",
   "execution_count": 73,
   "metadata": {},
   "outputs": [
    {
     "name": "stdout",
     "output_type": "stream",
     "text": [
      "orange\n",
      "orange\n",
      "apple\n"
     ]
    }
   ],
   "source": [
    "def longer_string(str1: str, str2: str) -> None:\n",
    "    print(max(str1, str2, key=len))\n",
    "\n",
    "longer_string(\"apple\",\"orange\")\n",
    "longer_string(\"orange\",\"apple\")\n",
    "longer_string(\"apple\",\"grape\")"
   ]
  }
 ],
 "metadata": {
  "kernelspec": {
   "display_name": "Python 3",
   "language": "python",
   "name": "python3"
  },
  "language_info": {
   "codemirror_mode": {
    "name": "ipython",
    "version": 3
   },
   "file_extension": ".py",
   "mimetype": "text/x-python",
   "name": "python",
   "nbconvert_exporter": "python",
   "pygments_lexer": "ipython3",
   "version": "3.10.7"
  }
 },
 "nbformat": 4,
 "nbformat_minor": 2
}
