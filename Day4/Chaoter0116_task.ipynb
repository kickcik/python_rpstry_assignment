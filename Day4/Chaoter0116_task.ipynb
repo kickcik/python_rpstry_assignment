{
 "cells": [
  {
   "cell_type": "markdown",
   "metadata": {
    "id": "BX7SgOeWu86I"
   },
   "source": [
    "안녕하세요. 수강생 여러분~! \n",
    "\n",
    "다시 돌아온 조금 더 성장할 기 ! 회 ! \n",
    "\n",
    "Chapter01 ~ 16의 수업 내용을 바탕으로 아래 문제를 풀어주시면 됩니다 !\n",
    "\n",
    "지금까지 잘 해오셨으니까, 총 복습한다고 생각하시고 한번 도전해보세요 !!!\n",
    "\n",
    "차근 차근 문제와 요구사항을 읽고 작성해보세요.\n",
    "\n",
    "<br>\n",
    "\n",
    "\n",
    "[**답변 입력 방법**]\n",
    "\n",
    "문제 아래에 있는 코드 입력창에 정답코드를 작성하신 후  __▷ 버튼을 클릭해 코드를 실행__ 해보세요<br>"
   ]
  },
  {
   "cell_type": "markdown",
   "metadata": {},
   "source": [
    "---"
   ]
  },
  {
   "cell_type": "markdown",
   "metadata": {},
   "source": [
    "#### 프로젝트: 붕어빵 자동 판매 시스템\n",
    "\n",
    "\n",
    "당신은 붕어빵 가게의 주인입니다. \n",
    "\n",
    "손님들이 붕어빵을 주문하면 이를 자동으로 처리하고, 재고를 관리하는 시스템을 만들고자 합니다. \n",
    "\n",
    "또한, 관리자 모드를 통해 재고를 추가할 수 있는 기능을 구현해야 합니다.\n"
   ]
  },
  {
   "cell_type": "markdown",
   "metadata": {},
   "source": [
    "__[문제 1: 붕어빵 재고 확인]__\n",
    "\n",
    "붕어빵 가게의 현재 재고를 확인하는 기능을 구현하세요.\n",
    "\n",
    "요구사항:\n",
    "- 현재 붕어빵의 재고를 딕셔너리로 관리합니다.\n",
    "- 딕셔너리에는 붕어빵의 종류와 각각의 재고 개수가 저장됩니다.\n",
    "- 현재 재고를 화면에 출력하세요.\n",
    "\n",
    "붕어빵 재고\n",
    "- 팥붕어빵 : 10개\n",
    "- 슈크림붕어빵 : 8개\n",
    "- 초코붕어빵 : 5개"
   ]
  },
  {
   "cell_type": "code",
   "execution_count": 36,
   "metadata": {},
   "outputs": [
    {
     "name": "stdout",
     "output_type": "stream",
     "text": [
      "팥붕 : 10개\n",
      "슈붕 : 8개\n",
      "초붕 : 5개\n"
     ]
    }
   ],
   "source": [
    "fish_list = {\"팥붕\":\n",
    "             {\"재고\" : 10},\n",
    "             \"슈붕\":\n",
    "             {\"재고\" : 8},\n",
    "             \"초붕\":\n",
    "             {\"재고\" : 5}\n",
    "             }\n",
    "\n",
    "for i,j in list(fish_list.items()):\n",
    "    print(f'{i} : {j[\"재고\"]}개')"
   ]
  },
  {
   "cell_type": "markdown",
   "metadata": {},
   "source": [
    "__[문제 2: 붕어빵 주문 받기]__\n",
    "\n",
    "손님이 주문한 붕어빵의 종류와 개수를 입력받는 기능을 구현하세요.\n",
    "\n",
    "요구사항:\n",
    "- 손님이 주문할 붕어빵의 종류와 개수를 입력받습니다.\n",
    "- 주문 내용을 딕셔너리에 저장하세요.\n",
    "- 주문 내역을 출력해주세요."
   ]
  },
  {
   "cell_type": "code",
   "execution_count": null,
   "metadata": {},
   "outputs": [
    {
     "name": "stdout",
     "output_type": "stream",
     "text": [
      "주문 내역 : 팥붕 10개, 슈붕 10개, 초붕 10개, "
     ]
    }
   ],
   "source": [
    "keys = list(fish_list.keys())\n",
    "for i in keys:\n",
    "    fish_list[i][\"주문량\"] = int(input(f'{i} 구매량 : '))\n",
    "print(f'주문 내역 : ', end ='')\n",
    "for i in keys:\n",
    "    print(f'{i} {fish_list[i][\"주문량\"]}개, ', end = '')"
   ]
  },
  {
   "cell_type": "markdown",
   "metadata": {},
   "source": [
    "__[문제 3: 붕어빵 주문 처리]__\n",
    "\n",
    "손님의 주문을 처리하여 붕어빵 재고를 업데이트하는 기능을 구현하세요.\n",
    "\n",
    "요구사항:\n",
    "- 손님의 주문 내용을 기반으로 재고를 업데이트합니다.\n",
    "- 재고가 부족할 경우, 손님에게 재고 부족을 알리고 재고를 감소시키지 않습니다.\n",
    "- 재고가 충분할 경우, 주문한 만큼 재고를 감소시키고 판매를 완료합니다.\n",
    "- 판매가 완료된 경우 판매된 붕어빵 맛과 개수를 출력하세요."
   ]
  },
  {
   "cell_type": "code",
   "execution_count": null,
   "metadata": {},
   "outputs": [
    {
     "name": "stdout",
     "output_type": "stream",
     "text": [
      "{'팥붕': {'재고': 10, '주문량': 10}, '슈붕': {'재고': 8, '주문량': 10}, '초붕': {'재고': 5, '주문량': 10}}\n",
      "팥붕 10개 팔림\n",
      "슈붕재고가 부족합니다\n",
      "초붕재고가 부족합니다\n"
     ]
    }
   ],
   "source": [
    "for i in keys:\n",
    "    if fish_list[i]['주문량'] > 0:\n",
    "        if fish_list[i][\"재고\"] - fish_list[i]['주문량'] >= 0:\n",
    "            fish_list[i][\"재고\"] -= fish_list[i]['주문량']\n",
    "            print(f'{i} {fish_list[i][\"주문량\"]}개 팔림')\n",
    "        else : \n",
    "            print(f'{i}재고가 부족합니다')"
   ]
  },
  {
   "cell_type": "markdown",
   "metadata": {},
   "source": [
    "__[문제 4: 여러 손님 주문 처리]__\n",
    "\n",
    "여러 손님들의 주문을 처리할 수 있도록 시스템을 확장하세요.\n",
    "\n",
    "요구사항:\n",
    "- 손님이 \"종료\"를 입력할 때까지 주문을 계속 받습니다.\n",
    "- 각 주문마다 재고를 업데이트합니다.\n",
    "- 현재 재고를 화면에 출력합니다."
   ]
  },
  {
   "cell_type": "code",
   "execution_count": 38,
   "metadata": {},
   "outputs": [
    {
     "data": {
      "text/plain": [
       "{'팥붕': {'재고': 10, '주문량': 1}, '슈붕': {'재고': 8, '주문량': 2}, '초붕': {'재고': 5}}"
      ]
     },
     "execution_count": 38,
     "metadata": {},
     "output_type": "execute_result"
    }
   ],
   "source": [
    "for i in keys:\n",
    "    order = input(f'{i} 구매량 : ')\n",
    "    if order == '종료':\n",
    "        break\n",
    "    fish_list[i][\"주문량\"] = int(order)\n",
    "fish_list"
   ]
  },
  {
   "cell_type": "markdown",
   "metadata": {},
   "source": [
    "__[문제 5: 관리자 모드]__\n",
    "\n",
    "관리자 모드를 통해 붕어빵 재고를 추가할 수 있는 기능을 구현하세요.\n",
    "\n",
    "요구사항:\n",
    "- 관리자는 특정 붕어빵의 재고를 추가할 수 있습니다.\n",
    "- \"종료\"를 입력하면 관리자 모드를 종료합니다.\n",
    "- 추가된 재고를 업데이트하고 현재 재고를 화면에 출력합니다."
   ]
  },
  {
   "cell_type": "code",
   "execution_count": 40,
   "metadata": {},
   "outputs": [
    {
     "name": "stdout",
     "output_type": "stream",
     "text": [
      "--관리자 모드 검증--\n",
      "{'팥붕': {'재고': 15, '주문량': 1}, '슈붕': {'재고': 13, '주문량': 2}, '초붕': {'재고': 10}}\n"
     ]
    }
   ],
   "source": [
    "admin_info = ('a','b')\n",
    "\n",
    "print('--관리자 모드 검증--')\n",
    "typed_id = input('ID를 입력하세요 : ')\n",
    "typed_pw = input('PASSWORD를 입력하세요 : ')\n",
    "\n",
    "if admin_info == (typed_id, typed_pw):\n",
    "    for i in keys:\n",
    "        fish_list[i][\"재고\"] += int(input(f'{i} 재고 추가 : '))\n",
    "        \n",
    "print(fish_list)\n"
   ]
  },
  {
   "cell_type": "markdown",
   "metadata": {},
   "source": [
    "__[문제 6: 매출 확인]__\n",
    "\n",
    "붕어빵 판매 가격을 설정하고, 판매한 붕어빵의 매출을 계산하세요.\n",
    "\n",
    "요구사항:\n",
    "- 각 붕어빵의 가격을 딕셔너리로 관리합니다.\n",
    "- 판매된 붕어빵의 종류와 개수를 딕셔너리로 관리합니다.\n",
    "- 총 매출을 계산하여 출력합니다.\n",
    "\n",
    "초기 설정:\n",
    "- 가격\n",
    "    - \"팥붕어빵\": 1000\n",
    "    - \"슈크림붕어빵\": 1200\n",
    "    - \"초코붕어빵\": 1500\n",
    "\n",
    "- 판매 개수\n",
    "    - \"팥붕어빵\": 0\n",
    "    - \"슈크림붕어빵\": 0\n",
    "    - \"초코붕어빵\": 0"
   ]
  },
  {
   "cell_type": "code",
   "execution_count": 58,
   "metadata": {},
   "outputs": [
    {
     "name": "stdout",
     "output_type": "stream",
     "text": [
      "팥붕 2개 팔림\n",
      "슈붕 1개 팔림\n",
      "초붕 2개 팔림\n",
      "총 매출 : 6,200원\n"
     ]
    }
   ],
   "source": [
    "fish_list = {\"팥붕\":\n",
    "             {\"재고\" : 10, \"가격\":1000, \"판매량\":0},\n",
    "             \"슈붕\":\n",
    "             {\"재고\" : 8, \"가격\":1200, \"판매량\":0},\n",
    "             \"초붕\":\n",
    "             {\"재고\" : 5, \"가격\":1500, \"판매량\":0}\n",
    "             }\n",
    "\n",
    "for i in keys:\n",
    "    order = input(f'{i} 구매량 : ')\n",
    "    if order == '종료':\n",
    "        break\n",
    "    fish_list[i][\"주문량\"] = int(order)\n",
    "\n",
    "for i in keys:\n",
    "    if fish_list[i]['주문량'] > 0:\n",
    "        if fish_list[i][\"재고\"] - fish_list[i]['주문량'] >= 0:\n",
    "            fish_list[i][\"재고\"] -= fish_list[i]['주문량']\n",
    "            fish_list[i][\"판매량\"] += fish_list[i]['주문량']\n",
    "            print(f'{i} {fish_list[i][\"주문량\"]}개 팔림')\n",
    "        else : \n",
    "            print(f'{i}재고가 부족합니다')\n",
    "\n",
    "price = 0\n",
    "\n",
    "for i in keys:\n",
    "    price += (fish_list[i]['가격']*fish_list[i]['판매량'])\n",
    "print(f'총 매출 : {price:,}원')"
   ]
  }
 ],
 "metadata": {
  "colab": {
   "authorship_tag": "ABX9TyMLQjyUmELFyKkx1AyovOFZ",
   "provenance": []
  },
  "kernelspec": {
   "display_name": "Python 3",
   "name": "python3"
  },
  "language_info": {
   "codemirror_mode": {
    "name": "ipython",
    "version": 3
   },
   "file_extension": ".py",
   "mimetype": "text/x-python",
   "name": "python",
   "nbconvert_exporter": "python",
   "pygments_lexer": "ipython3",
   "version": "3.10.7"
  }
 },
 "nbformat": 4,
 "nbformat_minor": 0
}
