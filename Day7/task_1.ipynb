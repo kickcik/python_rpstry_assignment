{
 "cells": [
  {
   "cell_type": "markdown",
   "metadata": {},
   "source": [
    "안녕하세요. 수강생 여러분~! Chapter33 ~ 41 수업은 잘 들으셨나요?\n",
    "\n",
    "Chapter33 ~ 41의 수업 내용을 바탕으로 아래 문제를 풀어주시면 됩니다.\n",
    "\n",
    "\n",
    "<br>\n",
    "\n",
    "\n",
    "[**답변 입력 방법**]\n",
    "\n",
    "문제 아래에 있는 코드 입력창에 정답코드를 작성하신 후  __▷ 버튼을 클릭해 코드를 실행__ 해보세요<br>"
   ]
  },
  {
   "cell_type": "markdown",
   "metadata": {},
   "source": [
    "---"
   ]
  },
  {
   "cell_type": "markdown",
   "metadata": {},
   "source": [
    "[문제 1]\n",
    "\n",
    "사용자로부터 두 개의 숫자를 입력받아 나눗셈을 수행하는 프로그램을 작성하세요. \n",
    "\n",
    "[예외처리]\n",
    "- 입력 값이 숫자가 아닐 때 발생할 수 있는 ValueError\n",
    "- 나누는 수가 0일 때 발생할 수 있는 ZeroDivisionError\n",
    "- 위 2가지 예외처리 후 사용자에게 이해하기 쉬운 메시지 작성 후 출력되도록 코드를 작성"
   ]
  },
  {
   "cell_type": "code",
   "execution_count": null,
   "metadata": {},
   "outputs": [
    {
     "name": "stdout",
     "output_type": "stream",
     "text": [
      "5 나누기 2 = 2.5\n"
     ]
    }
   ],
   "source": [
    "try:\n",
    "    num1, num2 = [int(input('숫자를 입력해주세요 : ')) for _ in range(2)]\n",
    "    num1 / num2\n",
    "except ValueError as e:\n",
    "    print(f'예외 발생 : {type(e)}')\n",
    "    print(f'예외 내용 : {e}')\n",
    "    print('숫자가 아닌 값을 입력하셨습니다. 숫자를 입력해주세요.')\n",
    "except ZeroDivisionError as e:\n",
    "    print(f'예외 발생 : {type(e)}')\n",
    "    print(f'예외 내용 : {e}')\n",
    "    print('0으로 나누었습니다. 두 번째 숫자는 0을 재외하고 입력해주세요.')\n",
    "else:\n",
    "    print(f'{num1} 나누기 {num2} = {num1 / num2}')\n"
   ]
  },
  {
   "cell_type": "markdown",
   "metadata": {},
   "source": [
    "---"
   ]
  },
  {
   "cell_type": "markdown",
   "metadata": {},
   "source": [
    "[문제 2]\n",
    "\n",
    "파일을 읽어서 내용을 출력하는 프로그램을 작성하세요. \n",
    "\n",
    "- 파일이 존재하지 않을 때 발생하는 FileNotFoundError를 처리\n",
    "- 파일이 존재하지 않을 경우 \"파일을 찾을 수 없습니다.\"라는 메시지를 출력"
   ]
  },
  {
   "cell_type": "code",
   "execution_count": null,
   "metadata": {},
   "outputs": [
    {
     "name": "stdout",
     "output_type": "stream",
     "text": [
      "파일을 찾을 수 없습니다.\n"
     ]
    }
   ],
   "source": [
    "try:\n",
    "    open('file.txt')\n",
    "except FileNotFoundError:\n",
    "    print('파일을 찾을 수 없습니다.')"
   ]
  },
  {
   "cell_type": "markdown",
   "metadata": {},
   "source": [
    "---"
   ]
  },
  {
   "cell_type": "markdown",
   "metadata": {},
   "source": [
    "[문제 3]\n",
    "\n",
    "사용자로부터 여러 개의 숫자를 입력받아 리스트에 저장한 후, 사용자가 'done'이라고 입력할 때까지 계속 입력받으세요. \n",
    "\n",
    "- 입력 중 숫자가 아닌 값이 입력되면 ValueError를 처리\n",
    "- 숫자 외 값이 입력된 경우 어떤 값이 잘못 입력되었는지 사용자에게 알려주는 문구 출력<br>\n",
    "  (예: f\"잘못된 값: {변수}. 숫자를 입력해주세요.\")\n",
    "\n"
   ]
  },
  {
   "cell_type": "code",
   "execution_count": null,
   "metadata": {},
   "outputs": [
    {
     "name": "stdout",
     "output_type": "stream",
     "text": [
      "잘못된 값: a. 숫자를 입력해주세요.\n"
     ]
    }
   ],
   "source": [
    "while (num := input('숫자를 입력하세요 : ')) != 'done': # 월러스 연산자를 배웠다! 값을 입력받으면서 반환까지 해준다. 파이썬 버전 3.8 이상부터 지원한다.\n",
    "    try:\n",
    "        num = int(num)\n",
    "    except ValueError:\n",
    "        print(f'잘못된 값: {num}. 숫자를 입력해주세요.')"
   ]
  },
  {
   "cell_type": "markdown",
   "metadata": {},
   "source": [
    "---"
   ]
  },
  {
   "cell_type": "markdown",
   "metadata": {},
   "source": [
    "[문제 4]\n",
    "\n",
    "사용자 정의 예외 NegativeNumberError를 생성하고, 사용자로부터 숫자를 입력받아 음수일 경우 NegativeNumberError를 발생시키는 프로그램을 작성하세요. \n",
    "\n",
    "- 예외 처리 구문을 사용하여 음수 입력 시 \"양수를 입력해주세요.\"라는 메시지를 출력"
   ]
  },
  {
   "cell_type": "code",
   "execution_count": 17,
   "metadata": {},
   "outputs": [
    {
     "name": "stdout",
     "output_type": "stream",
     "text": [
      "예외 발생 : <class '__main__.NegativeNumberError'>\n",
      "예외 내용 : 양수를 입력해주세요.\n"
     ]
    }
   ],
   "source": [
    "class NegativeNumberError(Exception):\n",
    "    def __init__(self, number):\n",
    "        super().__init__(f'양수를 입력해주세요.')\n",
    "        self.number = number\n",
    "try:    \n",
    "    if (num := int(input('숫자를 입력하세요'))) < 0:\n",
    "        raise NegativeNumberError(num)\n",
    "except NegativeNumberError as e:\n",
    "    print(f'예외 발생 : {type(e)}')\n",
    "    print(f'예외 내용 : {e}')\n",
    "except ValueError as e:\n",
    "    print(f'예외 발생 : {type(e)}')\n",
    "    print(f'예외 내용 : {e}')"
   ]
  },
  {
   "cell_type": "markdown",
   "metadata": {},
   "source": [
    "---"
   ]
  },
  {
   "cell_type": "markdown",
   "metadata": {},
   "source": [
    "[문제 5]\n",
    "\n",
    "datetime 모듈을 사용하여 현재 날짜와 시간을 출력하는 프로그램을 작성하세요. \n",
    "\n",
    "또한, 사용자로부터 태어난 년도를 입력받아 현재 나이를 계산하여 출력하세요."
   ]
  },
  {
   "cell_type": "code",
   "execution_count": 23,
   "metadata": {},
   "outputs": [
    {
     "name": "stdout",
     "output_type": "stream",
     "text": [
      "현재 날짜: 17일\n",
      "현재 시간: 오후 1시\n",
      "현재 나이 : 106\n"
     ]
    }
   ],
   "source": [
    "import datetime\n",
    "\n",
    "def cal_age(year: int) -> int:\n",
    "    return now.year - year\n",
    "\n",
    "now = datetime.datetime.now()\n",
    "\n",
    "print(f'현재 날짜: {now.day}일\\n현재 시간: {\"오전 \"+ str(now.hour) if now.hour < 12 else \"오후 \"+ str(now.hour%12)}시')\n",
    "\n",
    "try:\n",
    "    yob = int(input('태어난 년도를 입력해주세요 : '))\n",
    "\n",
    "    print(f'현재 나이 : {cal_age(yob)}')\n",
    "\n",
    "except ValueError as e:\n",
    "    print(f'예외 발생 : {type(e)}')\n",
    "    print(f'예외 내용 : {e}')\n",
    "except Exception as e:\n",
    "    print(f'예외 발생 : {type(e)}')\n",
    "    print(f'예외 내용 : {e}')\n",
    "\n"
   ]
  },
  {
   "cell_type": "markdown",
   "metadata": {},
   "source": [
    "---"
   ]
  },
  {
   "cell_type": "markdown",
   "metadata": {},
   "source": [
    "[문제 6]\n",
    "\n",
    "requests 모듈을 사용하여, 웹 페이지의 HTML을 가져오는 간단한 웹 스크레이퍼를 작성하세요.\n",
    "\n",
    "'https://kream.co.kr/'에서<br> \n",
    "데이터를 가져와서 상태 코드와 HTML의 첫 100자를 출력하세요.<br>\n",
    "(실습 전 requests 모듈을 설치해야 함)"
   ]
  },
  {
   "cell_type": "code",
   "execution_count": 40,
   "metadata": {},
   "outputs": [
    {
     "name": "stdout",
     "output_type": "stream",
     "text": [
      "상태 코드: 500\n",
      "HTML 첫 100자:\n",
      "<!DOCTYPE html>\n",
      "<html lang=\"ko\">\n",
      "<head>\n",
      "<meta name=\"robots\" content=\"noindex, nofollow\" />\n",
      "<meta htt\n"
     ]
    }
   ],
   "source": [
    "import requests\n",
    "\n",
    "url ='https://kream.co.kr/'\n",
    "res = requests.get(url)\n",
    "\n",
    "print(f'상태 코드: {res.status_code}')\n",
    "print(f'HTML 첫 100자:\\n{res.text[:100]}')\n"
   ]
  },
  {
   "cell_type": "markdown",
   "metadata": {},
   "source": [
    "---"
   ]
  },
  {
   "cell_type": "markdown",
   "metadata": {},
   "source": [
    "[문제 7]\n",
    "\n",
    "함수 실행 시간을 측정하는 데코레이터 timer_decorator를 작성하세요. \n",
    "\n",
    "임의의 함수가 실행되는 시간을 측정하여 \"함수 실행 시간: x.xx초\" 형태로 출력하세요."
   ]
  },
  {
   "cell_type": "code",
   "execution_count": 44,
   "metadata": {},
   "outputs": [
    {
     "name": "stdout",
     "output_type": "stream",
     "text": [
      "상태 코드: 500\n",
      "HTML 첫 100자:\n",
      "<!DOCTYPE html>\n",
      "<html lang=\"ko\">\n",
      "<head>\n",
      "<meta name=\"robots\" content=\"noindex, nofollow\" />\n",
      "<meta htt\n",
      "함수 실행 시간: 10.04초\n"
     ]
    }
   ],
   "source": [
    "import time\n",
    "\n",
    "def time_decorator(func):\n",
    "    def wrapper(*args, **kwargs) -> None:\n",
    "        start = time.time()\n",
    "        func(*args, **kwargs)\n",
    "        end = time.time()\n",
    "        print(f'함수 실행 시간: {round(end - start, 2)}초')\n",
    "    return wrapper\n",
    "\n",
    "@time_decorator\n",
    "def request_func(url: str) -> None:\n",
    "    res = requests.get(url)\n",
    "    print(f'상태 코드: {res.status_code}')\n",
    "    print(f'HTML 첫 100자:\\n{res.text[:100]}')\n",
    "\n",
    "url ='https://kream.co.kr/'\n",
    "\n",
    "request_func(url)\n"
   ]
  },
  {
   "cell_type": "markdown",
   "metadata": {},
   "source": [
    "---"
   ]
  },
  {
   "cell_type": "markdown",
   "metadata": {},
   "source": [
    "[문제 8]\n",
    "\n",
    "여러분이 자주 사용하는 수학적 연산<br>\n",
    "(예: 삼각형 넓이, 원의 넓이, 직육면체의 넓이)을 수행하는 함수들을 포함하는 mymath.py라는 이름의 모듈을 만드세요. \n",
    "\n",
    "이 모듈을 사용하여 작성된 함수들을 실제로 임포트하고 사용하는 간단한 프로그램을 작성하세요."
   ]
  },
  {
   "cell_type": "code",
   "execution_count": 45,
   "metadata": {},
   "outputs": [
    {
     "name": "stdout",
     "output_type": "stream",
     "text": [
      "밑변이 3, 높이가 4인 삼각형의 넓이 : 6.0\n",
      "반지름이 5인 원의 넓이 : 78.5398\n",
      "길이가 3, 너비가 4, 높이가 5 직육면체의 겉넓이 : 94\n"
     ]
    }
   ],
   "source": [
    "import module_package.my_package.mymath as m\n",
    "\n",
    "print(f'밑변이 {3}, 높이가 {4}인 삼각형의 넓이 : {m.triange_area(3,4)}')\n",
    "print(f'반지름이 {5}인 원의 넓이 : {m.circle_area(5)}')\n",
    "print(f'길이가 {3}, 너비가 {4}, 높이가 {5} 직육면체의 겉넓이 : {m.cuboid_area(3,4,5)}')"
   ]
  },
  {
   "cell_type": "markdown",
   "metadata": {},
   "source": [
    "---"
   ]
  },
  {
   "cell_type": "markdown",
   "metadata": {},
   "source": [
    "[문제 9]\n",
    "\n",
    "animals라는 패키지를 만들고, 이 패키지 내에 mammals, birds라는 두 개의 서브 모듈을 생성하세요. \n",
    "\n",
    "- 각 모듈에는 최소한 한 개 이상의 동물에 관한 클래스를 정의하세요<br>\n",
    "  (예: mammals에는 Dog, birds에는 Eagle)\n",
    "- 이 패키지와 모듈을 사용하여 동물들의 정보를 출력하는 프로그램을 작성\n",
    "\n",
    "폴더 및 파일 구조\n",
    "```\n",
    "animals/(폴더)\n",
    "├── __init__.py\n",
    "├── mammals.py\n",
    "└── birds.py\n",
    "```\n"
   ]
  },
  {
   "cell_type": "code",
   "execution_count": 2,
   "metadata": {},
   "outputs": [
    {
     "name": "stdout",
     "output_type": "stream",
     "text": [
      "품종: 시고르자브\n",
      "나이 3\n"
     ]
    }
   ],
   "source": [
    "import animals.mammals as mam\n",
    "\n",
    "dog = mam.Dog('시고르자브', 3)\n",
    "dog.print_info()\n",
    "\n"
   ]
  },
  {
   "cell_type": "code",
   "execution_count": 3,
   "metadata": {},
   "outputs": [
    {
     "name": "stdout",
     "output_type": "stream",
     "text": [
      "이름: 대머리독수리\n",
      "나이 5\n"
     ]
    }
   ],
   "source": [
    "import animals.birds as bir\n",
    "\n",
    "bird = bir.Eagle('대머리독수리', 5)\n",
    "bird.print_info()"
   ]
  },
  {
   "cell_type": "markdown",
   "metadata": {},
   "source": [
    "---"
   ]
  }
 ],
 "metadata": {
  "kernelspec": {
   "display_name": "Python 3",
   "language": "python",
   "name": "python3"
  },
  "language_info": {
   "codemirror_mode": {
    "name": "ipython",
    "version": 3
   },
   "file_extension": ".py",
   "mimetype": "text/x-python",
   "name": "python",
   "nbconvert_exporter": "python",
   "pygments_lexer": "ipython3",
   "version": "3.10.7"
  }
 },
 "nbformat": 4,
 "nbformat_minor": 2
}
